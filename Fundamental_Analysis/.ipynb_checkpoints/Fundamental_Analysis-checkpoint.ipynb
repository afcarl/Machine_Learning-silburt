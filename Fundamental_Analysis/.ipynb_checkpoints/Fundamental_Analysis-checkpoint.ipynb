{
 "cells": [
  {
   "cell_type": "markdown",
   "metadata": {},
   "source": [
    "# Fundamental Analysis\n",
    "This notebook uses machine learning to conduct a fundamental analysis of stocks. Specifically, XGBoost is trained on stocks at year $t$ and $t-1$ to predict whether the stock price will increase or decrease at year $t+1$. This problem is cast as a classification problem (vs. regression problem), as it is easier to train. "
   ]
  },
  {
   "cell_type": "code",
   "execution_count": 1,
   "metadata": {},
   "outputs": [
    {
     "name": "stderr",
     "output_type": "stream",
     "text": [
      "/Users/silburt/anaconda2/envs/ml/lib/python2.7/site-packages/fix_yahoo_finance/__init__.py:43: DeprecationWarning: \n",
      "    Auto-overriding of pandas_datareader's get_data_yahoo() is deprecated and no longer available.\n",
      "    Use pdr_override() to explicitly override it.\n",
      "  DeprecationWarning)\n"
     ]
    }
   ],
   "source": [
    "import pandas as pd\n",
    "import numpy as np\n",
    "import requests\n",
    "import sys\n",
    "import matplotlib.pyplot as plt\n",
    "\n",
    "from pandas_datareader import data as pdr\n",
    "import fix_yahoo_finance\n",
    "\n",
    "from pandas.tseries.offsets import BMonthEnd\n",
    "from pattern.web import URL\n",
    "from forex_python.converter import CurrencyRates\n",
    "import datetime\n",
    "import pickle\n",
    "%matplotlib inline"
   ]
  },
  {
   "cell_type": "code",
   "execution_count": 2,
   "metadata": {},
   "outputs": [
    {
     "data": {
      "text/html": [
       "<div>\n",
       "<style>\n",
       "    .dataframe thead tr:only-child th {\n",
       "        text-align: right;\n",
       "    }\n",
       "\n",
       "    .dataframe thead th {\n",
       "        text-align: left;\n",
       "    }\n",
       "\n",
       "    .dataframe tbody tr th {\n",
       "        vertical-align: top;\n",
       "    }\n",
       "</style>\n",
       "<table border=\"1\" class=\"dataframe\">\n",
       "  <thead>\n",
       "    <tr style=\"text-align: right;\">\n",
       "      <th></th>\n",
       "      <th>Symbol</th>\n",
       "      <th>Company</th>\n",
       "    </tr>\n",
       "  </thead>\n",
       "  <tbody>\n",
       "    <tr>\n",
       "      <th>0</th>\n",
       "      <td>A</td>\n",
       "      <td>Agilent Technologies</td>\n",
       "    </tr>\n",
       "    <tr>\n",
       "      <th>1</th>\n",
       "      <td>AA</td>\n",
       "      <td>Alcoa Inc</td>\n",
       "    </tr>\n",
       "    <tr>\n",
       "      <th>2</th>\n",
       "      <td>AACC</td>\n",
       "      <td>Asset Accep Cap Corp</td>\n",
       "    </tr>\n",
       "    <tr>\n",
       "      <th>3</th>\n",
       "      <td>AAI</td>\n",
       "      <td>Airtran Hldgs Inc</td>\n",
       "    </tr>\n",
       "    <tr>\n",
       "      <th>4</th>\n",
       "      <td>AAII</td>\n",
       "      <td>Alabama Aircraft Ind In</td>\n",
       "    </tr>\n",
       "  </tbody>\n",
       "</table>\n",
       "</div>"
      ],
      "text/plain": [
       "  Symbol                  Company\n",
       "0      A     Agilent Technologies\n",
       "1     AA                Alcoa Inc\n",
       "2   AACC     Asset Accep Cap Corp\n",
       "3    AAI        Airtran Hldgs Inc\n",
       "4   AAII  Alabama Aircraft Ind In"
      ]
     },
     "execution_count": 2,
     "metadata": {},
     "output_type": "execute_result"
    }
   ],
   "source": [
    "# You can get more stock lists from: http://www.nasdaq.com/screening/industries.aspx  \n",
    "tickers = pd.read_csv('csv/wilshire5000.csv',delimiter=\",\")\n",
    "tickers.head()"
   ]
  },
  {
   "cell_type": "markdown",
   "metadata": {},
   "source": [
    "## Get Data"
   ]
  },
  {
   "cell_type": "code",
   "execution_count": 3,
   "metadata": {
    "collapsed": true,
    "scrolled": false
   },
   "outputs": [],
   "source": [
    "############################################# Helper Functions #############################################\n",
    "#############################################                  #############################################\n",
    "#simple progress bar\n",
    "def progress_bar(stocks, every=10):\n",
    "    length = float(len(stocks))\n",
    "    i=0\n",
    "    for index, item in stocks.iterrows():\n",
    "        if i % every == 0:\n",
    "            print >>sys.stderr, i/length,\n",
    "        yield item[0], item[1]\n",
    "        i += 1\n",
    "\n",
    "#small helper function to get first & last day of the month for get_mean_frac_price_change\n",
    "def first_and_last_weekday_of_month(date):\n",
    "    return pd.date_range(date, periods=1, freq='BMS')[0], pd.date_range(date, periods=1, freq='BM')[0]\n",
    "\n",
    "#collects data from yahoo finance, gets mean fractional price change, averaged over the relevant month\n",
    "def get_mean_frac_price_change(stock, current_date):\n",
    "    ds = current_date.split('-')\n",
    "    # get dates\n",
    "    first_current, last_current = first_and_last_weekday_of_month(current_date)\n",
    "    first_future, last_future = first_and_last_weekday_of_month('%d-%s'%(int(ds[0])+1, ds[1]))\n",
    "    first_past, last_past = first_and_last_weekday_of_month('%d-%s'%(int(ds[0])-1, ds[1]))\n",
    "    \n",
    "    # get mean prices\n",
    "    mean_current_price = pdr.get_data_yahoo(stock, first_current, last_current)['Close'].mean()\n",
    "    mean_past_price = pdr.get_data_yahoo(stock, first_past, last_past)['Close'].mean()\n",
    "    mean_future_price = pdr.get_data_yahoo(stock, first_future, last_future)['Close'].mean()\n",
    "    \n",
    "    return mean_future_price/mean_current_price, mean_current_price/mean_past_price, mean_current_price\n",
    "\n",
    "def clean_data(d):\n",
    "    #delete annoying repeated columns\n",
    "    del_columns = ['Year over Year','3-Year Average','5-Year Average',\n",
    "                   '10-Year Average','Taxes Payable','Long-Term Debt']\n",
    "    for dc in del_columns: \n",
    "        try:\n",
    "            del d[dc]\n",
    "        except:\n",
    "            pass\n",
    "    \n",
    "    #convert commas to dots in relevant columns\n",
    "    for c in d.columns:\n",
    "        try:\n",
    "            d[c]=d[c].str.replace(',','.')\n",
    "        except:\n",
    "            pass\n",
    "    return d\n",
    "\n",
    "#convert all currency values into USD\n",
    "def convert_currency(values, date):\n",
    "    currencies = ['AED','ARS','AUD','BRL','CAD','CHF','CLP','CNY','COP','CZK',\n",
    "                  'EUR','GBP','HKD','ILS','INR','JPY','KRW','MXN','OMR','PEN',\n",
    "                  'PLN','RON','RUB','SEK','THB','TWD','ZAR']\n",
    "    date = date.split(\"-\")\n",
    "    year, month = int(date[0]), int(date[1])\n",
    "    for c in currencies:\n",
    "        mask = values.index.str.contains(c)\n",
    "        if np.any(mask):\n",
    "            cr = CurrencyRates()\n",
    "            values.loc[values.index[mask]] *= cr.get_rate(c, 'USD', datetime.datetime(year, month, 1))\n",
    "            values.index = [col.replace(c, 'USD') for col in values.index]\n",
    "            return values\n",
    "    return values"
   ]
  },
  {
   "cell_type": "code",
   "execution_count": 10,
   "metadata": {
    "collapsed": true
   },
   "outputs": [],
   "source": [
    "############################################# Main Functions #############################################\n",
    "#############################################                #############################################\n",
    "\n",
    "#scrape financial data from Morningstar for a given stock, get stock prices for t-1, t, t+1\n",
    "def get_stock_financials(stock, company, year):\n",
    "    # pre-load stuff\n",
    "    path = \"csv/fundamentals/\"\n",
    "    skiprows = [19,20,31,41,42,43,48,58,53,64,65,72,73,95,101,102]\n",
    "    \n",
    "    # load or scrape data\n",
    "    try:\n",
    "        d = pd.read_csv('%s%s_keyratios.csv'%(path, stock), header=2, index_col=0, skiprows=skiprows)\n",
    "    except:\n",
    "        webpage = \"\"\"http://financials.morningstar.com/ajax/exportKR2CSV.html?t=%s&culture=\n",
    "                    en-CA&region=USA&order=asc&r=314562\"\"\"%stock\n",
    "        url = URL(webpage)\n",
    "        f = open('%s%s_keyratios.csv'%(path, stock), 'wb') #save key ratios\n",
    "        f.write(url.download())\n",
    "        f.close()\n",
    "        d = pd.read_csv('%s%s_keyratios.csv'%(path, stock), header=2, index_col=0, skiprows=skiprows)\n",
    "        \n",
    "    # ensure that data gathered from Morningstar corresponds to company of interest by\n",
    "    # validating company name in downloaded financial data. \n",
    "    remove_suffix = ['Inc','Corp','Ind','In','I','L','R','Ad','C','Co','E']\n",
    "    company_name = [x.upper() for x in company.split() if x not in remove_suffix]\n",
    "    company_header = open('%s%s_keyratios.csv'%(path, stock)).readline().upper()\n",
    "    matches = [s for s in company_name if s in company_header]\n",
    "    if len(matches) == 0:\n",
    "        return pd.DataFrame(columns=d.columns)  #return empty DataFrame which will be ignored\n",
    "    \n",
    "    # clean data\n",
    "    d = d.transpose().reset_index()\n",
    "    d = clean_data(d)\n",
    "    \n",
    "    # get indices for years of interest from dataframe\n",
    "    if year == \"TTM\":\n",
    "        i_current = np.where(d['index'].str.contains(\"TTM\"))[0][0]\n",
    "        i_past = np.where(d['index'].str.contains(\"2015\"))[0][0]\n",
    "        date_current = \"2016-12\"\n",
    "        date_past = d['index'].iloc[i_past]\n",
    "    else:\n",
    "        i_current = np.where(d['index'].str.contains(\"%d\"%year))[0][0]\n",
    "        i_past = np.where(d['index'].str.contains(\"%d\"%(year-1)))[0][0]\n",
    "        date_current = d['index'].iloc[i_current]\n",
    "        date_past = d['index'].iloc[i_past]\n",
    "    \n",
    "    # convert data from string to numeric, do currency conversion (if need be), get YOY-ratios\n",
    "    values_current = convert_currency(pd.to_numeric(d.iloc[i_current], errors='coerce'), date_current)\n",
    "    values_past = convert_currency(pd.to_numeric(d.iloc[i_past], errors='coerce'), date_past)\n",
    "    YOY = values_current/values_past\n",
    "    YOY = YOY.add_suffix(' YOY')\n",
    "    \n",
    "    # final dataframe\n",
    "    d = pd.DataFrame(pd.concat([values_current, YOY])).transpose()\n",
    "    \n",
    "    # get Fractional price changes (input=current/past, target=future/current)\n",
    "    d['Stock'] = stock\n",
    "    MFFPC, MPFPC, MP = get_mean_frac_price_change(stock,date_current)\n",
    "    d['Mean Future Fractional Price Change'] = MFFPC\n",
    "    d['Mean Past Fractional Price Change'] = MPFPC\n",
    "    d['Mean Price'] = MP\n",
    "    return d\n",
    "\n",
    "###############################################\n",
    "#Top-level function which compiles all stock data into a single DataFrame\n",
    "def get_data(ticker_csv, year, true_threshold):\n",
    "    ticker_loc = ticker_csv.split(\".csv\")[0]\n",
    "    try:\n",
    "        X = pd.read_csv(\"%s_year%d_data.csv\"%(ticker_loc,year))\n",
    "        skip = np.loadtxt(\"%s_year%d_skip.csv\"%(ticker_loc,year), dtype=\"str\",delimiter=\",\")\n",
    "        print \"Successfully loaded data from csv's.\\n\"\n",
    "    except:\n",
    "        print \"Couldn't find DataFrame, scraping data from Morningstar...\"\n",
    "        stocks = pd.read_csv(ticker_csv,delimiter=\",\")\n",
    "        cols = get_stock_financials(stocks[\"Symbol\"][0],stocks[\"Company\"][0],year).columns\n",
    "        X = pd.DataFrame(columns=cols)                                     #empty dataframe with available columns\n",
    "        skip = []\n",
    "        for s,c in progress_bar(stocks, len(stocks[\"Symbol\"])/10):         #main loop, fill dataframe\n",
    "            try:\n",
    "                _X = get_stock_financials(s,c,year)\n",
    "                if _X.shape[1] >= 1:                                       #only append if alg recovered data\n",
    "                    X = X.append(_X)\n",
    "            except:\n",
    "                skip.append(s)\n",
    "        X = X.set_index('Stock')\n",
    "        \n",
    "        #save to csv for ease of loading next time\n",
    "        skip = np.asarray(skip)\n",
    "        X.to_csv(\"%s_year%d_data.csv\"%(ticker_loc,year))\n",
    "        np.savetxt(\"%s_year%d_skip.csv\"%(ticker_loc,year), skip, fmt=\"%s\", delimiter=\",\")\n",
    "    \n",
    "    #create binary target\n",
    "    y = np.zeros(X.shape[0])\n",
    "    y[np.where(X['Mean Future Fractional Price Change'] > true_threshold)] = 1\n",
    "    print(\"Number of True cases = %d\"%len(y[y==1]))\n",
    "    print(\"Number of False cases = %d\"%len(y[y==0]))\n",
    "    print(\"Total cases = %d\"%len(y))\n",
    "    \n",
    "    return X, y, skip"
   ]
  },
  {
   "cell_type": "markdown",
   "metadata": {},
   "source": [
    "Load the data below. **Note that if you are not loading from csvs this might take a while**"
   ]
  },
  {
   "cell_type": "code",
   "execution_count": 11,
   "metadata": {},
   "outputs": [
    {
     "name": "stdout",
     "output_type": "stream",
     "text": [
      "Successfully loaded data from csv's.\n",
      "\n",
      "Number of True cases = 1699\n",
      "Number of False cases = 798\n",
      "Total cases = 2497\n"
     ]
    }
   ],
   "source": [
    "year = 2015\n",
    "ticker_csv = \"csv/wilshire5000.csv\"\n",
    "\n",
    "#Minimum fractional change in price required for target=True (=1). Otherwise False (=0). \n",
    "true_threshold=1.0  \n",
    "\n",
    "X, y, skip = get_data(ticker_csv, year, true_threshold)"
   ]
  },
  {
   "cell_type": "markdown",
   "metadata": {},
   "source": [
    "## Filter/Engineer Features\n",
    "Delete columns with $>10\\%$ NaN values, replace NaN values with column median, get training/test sets."
   ]
  },
  {
   "cell_type": "code",
   "execution_count": 12,
   "metadata": {},
   "outputs": [
    {
     "name": "stdout",
     "output_type": "stream",
     "text": [
      "!couldnt convert Stock column to numeric. NaN fraction=0.0000\n",
      "deleted Accounts Payable, NaN fraction=0.237885\n",
      "deleted Accounts Payable YOY, NaN fraction=0.263516\n",
      "deleted Accounts Receivable, NaN fraction=0.110533\n",
      "deleted Accounts Receivable YOY, NaN fraction=0.134561\n",
      "deleted Accrued Liabilities, NaN fraction=0.219463\n",
      "deleted Accrued Liabilities YOY, NaN fraction=0.241490\n",
      "deleted COGS, NaN fraction=0.247897\n",
      "deleted COGS YOY, NaN fraction=0.265919\n",
      "deleted Cap Ex as a % of Sales YOY, NaN fraction=0.126552\n",
      "deleted Cap Spending USD Mil YOY, NaN fraction=0.158590\n",
      "deleted Cash Conversion Cycle, NaN fraction=0.442531\n",
      "deleted Cash Conversion Cycle YOY, NaN fraction=0.456948\n",
      "deleted Current Ratio, NaN fraction=0.191830\n",
      "deleted Current Ratio YOY, NaN fraction=0.209051\n",
      "deleted Days Inventory, NaN fraction=0.421706\n",
      "deleted Days Inventory YOY, NaN fraction=0.437325\n",
      "deleted Days Sales Outstanding, NaN fraction=0.236284\n",
      "deleted Days Sales Outstanding YOY, NaN fraction=0.254305\n",
      "deleted Debt/Equity, NaN fraction=0.295955\n",
      "deleted Debt/Equity YOY, NaN fraction=0.344013\n",
      "deleted Dividends USD, NaN fraction=0.478174\n",
      "deleted Dividends USD YOY, NaN fraction=0.500200\n",
      "deleted EBT Margin YOY, NaN fraction=0.101722\n",
      "deleted Financial Leverage (Average) YOY, NaN fraction=0.118542\n",
      "deleted Financial Leverage YOY, NaN fraction=0.118542\n",
      "deleted Fixed Assets Turnover YOY, NaN fraction=0.110132\n",
      "deleted Free Cash Flow Growth % YOY, NaN fraction=0.596316\n",
      "deleted Free Cash Flow Growth % YOY YOY, NaN fraction=0.673208\n",
      "deleted Free Cash Flow/Sales % YOY, NaN fraction=0.102523\n",
      "deleted Gross Margin, NaN fraction=0.215058\n",
      "deleted Gross Margin %, NaN fraction=0.215058\n",
      "deleted Gross Margin % YOY, NaN fraction=0.234682\n",
      "deleted Gross Margin YOY, NaN fraction=0.234682\n",
      "deleted Intangibles, NaN fraction=0.235082\n",
      "deleted Intangibles YOY, NaN fraction=0.263516\n",
      "deleted Interest Coverage, NaN fraction=0.434521\n",
      "deleted Interest Coverage YOY, NaN fraction=0.480977\n",
      "deleted Inventory, NaN fraction=0.416500\n",
      "deleted Inventory Turnover, NaN fraction=0.421706\n",
      "deleted Inventory Turnover YOY, NaN fraction=0.437325\n",
      "deleted Inventory YOY, NaN fraction=0.430517\n",
      "deleted Key Ratios -> Efficiency Ratios, NaN fraction=1.000000\n",
      "deleted Key Ratios -> Efficiency Ratios YOY, NaN fraction=1.000000\n",
      "deleted Key Ratios -> Financial Health, NaN fraction=1.000000\n",
      "deleted Key Ratios -> Financial Health YOY, NaN fraction=1.000000\n",
      "deleted Liquidity/Financial Health, NaN fraction=1.000000\n",
      "deleted Liquidity/Financial Health YOY, NaN fraction=1.000000\n",
      "deleted Net Int Inc & Other, NaN fraction=0.139768\n",
      "deleted Net Int Inc & Other YOY, NaN fraction=0.171005\n",
      "deleted Net Margin % YOY, NaN fraction=0.104926\n",
      "deleted Operating Cash Flow Growth % YOY, NaN fraction=0.478975\n",
      "deleted Operating Cash Flow Growth % YOY YOY, NaN fraction=0.558670\n",
      "deleted Operating Margin % YOY, NaN fraction=0.100120\n",
      "deleted Operating Margin YOY, NaN fraction=0.100120\n",
      "deleted Other, NaN fraction=0.287946\n",
      "deleted Other Current Assets, NaN fraction=0.192231\n",
      "deleted Other Current Assets YOY, NaN fraction=0.211454\n",
      "deleted Other Long-Term Assets, NaN fraction=0.202243\n",
      "deleted Other Long-Term Assets YOY, NaN fraction=0.225871\n",
      "deleted Other Long-Term Liabilities, NaN fraction=0.207449\n",
      "deleted Other Long-Term Liabilities YOY, NaN fraction=0.229876\n",
      "deleted Other Short-Term Liabilities, NaN fraction=0.283540\n",
      "deleted Other Short-Term Liabilities YOY, NaN fraction=0.323588\n",
      "deleted Other YOY, NaN fraction=0.331598\n",
      "deleted Payables Period, NaN fraction=0.293152\n",
      "deleted Payables Period YOY, NaN fraction=0.311974\n",
      "deleted Payout Ratio % *, NaN fraction=0.533440\n",
      "deleted Payout Ratio % * YOY, NaN fraction=0.567481\n",
      "deleted Quick Ratio, NaN fraction=0.192231\n",
      "deleted Quick Ratio YOY, NaN fraction=0.209051\n",
      "deleted R&D, NaN fraction=0.720865\n",
      "deleted R&D YOY, NaN fraction=0.730477\n",
      "deleted Receivables Turnover, NaN fraction=0.235483\n",
      "deleted Receivables Turnover YOY, NaN fraction=0.253504\n",
      "deleted Return on Equity % YOY, NaN fraction=0.113736\n",
      "deleted Return on Invested Capital %, NaN fraction=0.234281\n",
      "deleted Return on Invested Capital % YOY, NaN fraction=0.254706\n",
      "deleted SG&A, NaN fraction=0.107329\n",
      "deleted SG&A YOY, NaN fraction=0.129756\n",
      "deleted Short-Term Debt, NaN fraction=0.488186\n",
      "deleted Short-Term Debt YOY, NaN fraction=0.545455\n",
      "deleted Tax Rate %, NaN fraction=0.362034\n",
      "deleted Tax Rate % YOY, NaN fraction=0.436924\n",
      "deleted Total Current Assets, NaN fraction=0.189828\n",
      "deleted Total Current Assets YOY, NaN fraction=0.206648\n",
      "deleted Total Current Liabilities, NaN fraction=0.191830\n",
      "deleted Total Current Liabilities YOY, NaN fraction=0.208250\n",
      "deleted Working Capital USD Mil, NaN fraction=0.190228\n",
      "deleted Working Capital USD Mil YOY, NaN fraction=0.211454\n",
      "deleted index, NaN fraction=1.000000\n",
      "deleted index YOY, NaN fraction=1.000000\n"
     ]
    }
   ],
   "source": [
    "for c in X.columns:\n",
    "    frac_NaN = X[c].isnull().sum()/float(len(X))\n",
    "    if frac_NaN > 0.1:\n",
    "        del X[c]\n",
    "        print \"deleted %s, NaN fraction=%f\"%(c,frac_NaN)\n",
    "    else:\n",
    "        try:\n",
    "            X[c].fillna(X[c].median(), inplace=True)\n",
    "        except:\n",
    "            print \"!couldnt convert %s column to numeric. NaN fraction=%.4f\"%(c, frac_NaN)"
   ]
  },
  {
   "cell_type": "markdown",
   "metadata": {},
   "source": [
    "Feature Engineering:\n",
    "- Working Capital Ratio - how easily that company can turn assets into cash to pay short-term obligations\n",
    "- Price/Earnings Ratio - investors' assessment of future earnings\n",
    "- Price/Book Ratio\n",
    "- Debt/Equity Ratio"
   ]
  },
  {
   "cell_type": "code",
   "execution_count": 13,
   "metadata": {
    "collapsed": true
   },
   "outputs": [],
   "source": [
    "#feature engineering\n",
    "def feature_engineering(X):\n",
    "    X['Working Capital Ratio'] = X['Total Assets']/X['Total Liabilities']   \n",
    "    X['P/E Ratio'] = X['Mean Price']/X['Earnings Per Share USD']                 \n",
    "    X['P/B Ratio'] = X['Mean Price']/X['Book Value Per Share * USD']\n",
    "    X['D/E Ratio'] = X['Total Liabilities']/X[\"Total Stockholders' Equity\"] \n",
    "\n",
    "    X['Working Capital Ratio YOY'] = X['Total Assets YOY']/X['Total Liabilities YOY']   \n",
    "    X['P/E Ratio YOY'] = X['Mean Past Fractional Price Change']/X['Earnings Per Share USD YOY']                 \n",
    "    X['P/B Ratio YOY'] = X['Mean Past Fractional Price Change']/X['Book Value Per Share * USD YOY']\n",
    "    X['D/E Ratio YOY'] = X['Total Liabilities YOY']/X[\"Total Stockholders' Equity YOY\"] \n",
    "    return X\n",
    "\n",
    "X = feature_engineering(X)\n",
    "\n",
    "columns = X.columns.tolist()\n",
    "remove = ['Mean Future Fractional Price Change','Stock']\n",
    "features = [x for x in columns if x not in remove]"
   ]
  },
  {
   "cell_type": "code",
   "execution_count": 14,
   "metadata": {},
   "outputs": [
    {
     "data": {
      "text/html": [
       "<div>\n",
       "<style>\n",
       "    .dataframe thead tr:only-child th {\n",
       "        text-align: right;\n",
       "    }\n",
       "\n",
       "    .dataframe thead th {\n",
       "        text-align: left;\n",
       "    }\n",
       "\n",
       "    .dataframe tbody tr th {\n",
       "        vertical-align: top;\n",
       "    }\n",
       "</style>\n",
       "<table border=\"1\" class=\"dataframe\">\n",
       "  <thead>\n",
       "    <tr style=\"text-align: right;\">\n",
       "      <th></th>\n",
       "      <th>Asset Turnover</th>\n",
       "      <th>Asset Turnover (Average)</th>\n",
       "      <th>Asset Turnover (Average) YOY</th>\n",
       "      <th>Asset Turnover YOY</th>\n",
       "      <th>Book Value Per Share * USD</th>\n",
       "      <th>Book Value Per Share * USD YOY</th>\n",
       "      <th>Cap Ex as a % of Sales</th>\n",
       "      <th>Cap Spending USD Mil</th>\n",
       "      <th>Cash &amp; Short-Term Investments</th>\n",
       "      <th>Cash &amp; Short-Term Investments YOY</th>\n",
       "      <th>...</th>\n",
       "      <th>Total Stockholders' Equity</th>\n",
       "      <th>Total Stockholders' Equity YOY</th>\n",
       "      <th>Working Capital Ratio</th>\n",
       "      <th>P/E Ratio</th>\n",
       "      <th>P/B Ratio</th>\n",
       "      <th>D/E Ratio</th>\n",
       "      <th>Working Capital Ratio YOY</th>\n",
       "      <th>P/E Ratio YOY</th>\n",
       "      <th>P/B Ratio YOY</th>\n",
       "      <th>D/E Ratio YOY</th>\n",
       "    </tr>\n",
       "  </thead>\n",
       "  <tbody>\n",
       "    <tr>\n",
       "      <th>0</th>\n",
       "      <td>0.44</td>\n",
       "      <td>0.44</td>\n",
       "      <td>0.676923</td>\n",
       "      <td>0.676923</td>\n",
       "      <td>12.36</td>\n",
       "      <td>0.734403</td>\n",
       "      <td>2.43</td>\n",
       "      <td>-98.0</td>\n",
       "      <td>26.78</td>\n",
       "      <td>0.957797</td>\n",
       "      <td>...</td>\n",
       "      <td>55.72</td>\n",
       "      <td>1.139002</td>\n",
       "      <td>2.258356</td>\n",
       "      <td>29.630282</td>\n",
       "      <td>2.876726</td>\n",
       "      <td>0.794688</td>\n",
       "      <td>1.153568</td>\n",
       "      <td>1.268805</td>\n",
       "      <td>1.279754</td>\n",
       "      <td>0.761083</td>\n",
       "    </tr>\n",
       "    <tr>\n",
       "      <th>1</th>\n",
       "      <td>0.38</td>\n",
       "      <td>0.38</td>\n",
       "      <td>0.974359</td>\n",
       "      <td>0.974359</td>\n",
       "      <td>11.40</td>\n",
       "      <td>1.018060</td>\n",
       "      <td>27.02</td>\n",
       "      <td>-18.0</td>\n",
       "      <td>8.04</td>\n",
       "      <td>1.163531</td>\n",
       "      <td>...</td>\n",
       "      <td>100.00</td>\n",
       "      <td>1.546073</td>\n",
       "      <td>1.644196</td>\n",
       "      <td>0.126457</td>\n",
       "      <td>0.011404</td>\n",
       "      <td>0.608200</td>\n",
       "      <td>0.992956</td>\n",
       "      <td>1.116002</td>\n",
       "      <td>4.256461</td>\n",
       "      <td>0.651388</td>\n",
       "    </tr>\n",
       "    <tr>\n",
       "      <th>2</th>\n",
       "      <td>0.53</td>\n",
       "      <td>0.53</td>\n",
       "      <td>1.019231</td>\n",
       "      <td>1.019231</td>\n",
       "      <td>5.05</td>\n",
       "      <td>1.018145</td>\n",
       "      <td>0.19</td>\n",
       "      <td>-0.0</td>\n",
       "      <td>4.97</td>\n",
       "      <td>0.961315</td>\n",
       "      <td>...</td>\n",
       "      <td>32.58</td>\n",
       "      <td>0.991177</td>\n",
       "      <td>1.483239</td>\n",
       "      <td>25.086183</td>\n",
       "      <td>0.943837</td>\n",
       "      <td>2.069368</td>\n",
       "      <td>0.995699</td>\n",
       "      <td>1.238390</td>\n",
       "      <td>1.216320</td>\n",
       "      <td>1.013260</td>\n",
       "    </tr>\n",
       "    <tr>\n",
       "      <th>3</th>\n",
       "      <td>1.24</td>\n",
       "      <td>1.24</td>\n",
       "      <td>0.976378</td>\n",
       "      <td>0.976378</td>\n",
       "      <td>18.50</td>\n",
       "      <td>1.116476</td>\n",
       "      <td>1.90</td>\n",
       "      <td>-61.0</td>\n",
       "      <td>1.40</td>\n",
       "      <td>1.386139</td>\n",
       "      <td>...</td>\n",
       "      <td>51.40</td>\n",
       "      <td>1.032129</td>\n",
       "      <td>2.057613</td>\n",
       "      <td>12.284312</td>\n",
       "      <td>1.235071</td>\n",
       "      <td>0.945525</td>\n",
       "      <td>1.032922</td>\n",
       "      <td>0.466568</td>\n",
       "      <td>0.719705</td>\n",
       "      <td>0.937991</td>\n",
       "    </tr>\n",
       "    <tr>\n",
       "      <th>4</th>\n",
       "      <td>1.54</td>\n",
       "      <td>1.54</td>\n",
       "      <td>0.968553</td>\n",
       "      <td>0.968553</td>\n",
       "      <td>3.74</td>\n",
       "      <td>1.129909</td>\n",
       "      <td>5.85</td>\n",
       "      <td>-21.0</td>\n",
       "      <td>8.74</td>\n",
       "      <td>0.509027</td>\n",
       "      <td>...</td>\n",
       "      <td>76.84</td>\n",
       "      <td>1.029061</td>\n",
       "      <td>4.317789</td>\n",
       "      <td>27.779792</td>\n",
       "      <td>6.239312</td>\n",
       "      <td>0.301406</td>\n",
       "      <td>1.093696</td>\n",
       "      <td>1.047728</td>\n",
       "      <td>0.973631</td>\n",
       "      <td>0.888510</td>\n",
       "    </tr>\n",
       "  </tbody>\n",
       "</table>\n",
       "<p>5 rows × 61 columns</p>\n",
       "</div>"
      ],
      "text/plain": [
       "   Asset Turnover  Asset Turnover (Average)  Asset Turnover (Average) YOY  \\\n",
       "0            0.44                      0.44                      0.676923   \n",
       "1            0.38                      0.38                      0.974359   \n",
       "2            0.53                      0.53                      1.019231   \n",
       "3            1.24                      1.24                      0.976378   \n",
       "4            1.54                      1.54                      0.968553   \n",
       "\n",
       "   Asset Turnover YOY  Book Value Per Share * USD  \\\n",
       "0            0.676923                       12.36   \n",
       "1            0.974359                       11.40   \n",
       "2            1.019231                        5.05   \n",
       "3            0.976378                       18.50   \n",
       "4            0.968553                        3.74   \n",
       "\n",
       "   Book Value Per Share * USD YOY  Cap Ex as a % of Sales  \\\n",
       "0                        0.734403                    2.43   \n",
       "1                        1.018060                   27.02   \n",
       "2                        1.018145                    0.19   \n",
       "3                        1.116476                    1.90   \n",
       "4                        1.129909                    5.85   \n",
       "\n",
       "   Cap Spending USD Mil  Cash & Short-Term Investments  \\\n",
       "0                 -98.0                          26.78   \n",
       "1                 -18.0                           8.04   \n",
       "2                  -0.0                           4.97   \n",
       "3                 -61.0                           1.40   \n",
       "4                 -21.0                           8.74   \n",
       "\n",
       "   Cash & Short-Term Investments YOY      ...        \\\n",
       "0                           0.957797      ...         \n",
       "1                           1.163531      ...         \n",
       "2                           0.961315      ...         \n",
       "3                           1.386139      ...         \n",
       "4                           0.509027      ...         \n",
       "\n",
       "   Total Stockholders' Equity  Total Stockholders' Equity YOY  \\\n",
       "0                       55.72                        1.139002   \n",
       "1                      100.00                        1.546073   \n",
       "2                       32.58                        0.991177   \n",
       "3                       51.40                        1.032129   \n",
       "4                       76.84                        1.029061   \n",
       "\n",
       "   Working Capital Ratio  P/E Ratio  P/B Ratio  D/E Ratio  \\\n",
       "0               2.258356  29.630282   2.876726   0.794688   \n",
       "1               1.644196   0.126457   0.011404   0.608200   \n",
       "2               1.483239  25.086183   0.943837   2.069368   \n",
       "3               2.057613  12.284312   1.235071   0.945525   \n",
       "4               4.317789  27.779792   6.239312   0.301406   \n",
       "\n",
       "   Working Capital Ratio YOY  P/E Ratio YOY  P/B Ratio YOY  D/E Ratio YOY  \n",
       "0                   1.153568       1.268805       1.279754       0.761083  \n",
       "1                   0.992956       1.116002       4.256461       0.651388  \n",
       "2                   0.995699       1.238390       1.216320       1.013260  \n",
       "3                   1.032922       0.466568       0.719705       0.937991  \n",
       "4                   1.093696       1.047728       0.973631       0.888510  \n",
       "\n",
       "[5 rows x 61 columns]"
      ]
     },
     "execution_count": 14,
     "metadata": {},
     "output_type": "execute_result"
    }
   ],
   "source": [
    "X[features].head()\n",
    "#X.to_csv('csv/X.csv',index=False)"
   ]
  },
  {
   "cell_type": "markdown",
   "metadata": {},
   "source": [
    "## Machine Learning time\n",
    "Do an initial search with a high learning rate and few n_estimators, then do a second tune with lower learning rate and many more estimators.  "
   ]
  },
  {
   "cell_type": "code",
   "execution_count": 20,
   "metadata": {},
   "outputs": [
    {
     "data": {
      "text/plain": [
       "XGBClassifier(base_score=0.5, colsample_bylevel=1, colsample_bytree=1,\n",
       "       gamma=0, learning_rate=0.1, max_delta_step=0, max_depth=3,\n",
       "       min_child_weight=1, missing=None, n_estimators=100, nthread=-1,\n",
       "       objective='binary:logistic', reg_alpha=0, reg_lambda=1,\n",
       "       scale_pos_weight=1, seed=0, silent=True, subsample=1)"
      ]
     },
     "execution_count": 20,
     "metadata": {},
     "output_type": "execute_result"
    }
   ],
   "source": [
    "import xgboost as xgb\n",
    "from sklearn.model_selection import RandomizedSearchCV\n",
    "xgb.XGBClassifier()"
   ]
  },
  {
   "cell_type": "code",
   "execution_count": 16,
   "metadata": {},
   "outputs": [
    {
     "data": {
      "text/plain": [
       "0.46021840873634945"
      ]
     },
     "execution_count": 16,
     "metadata": {},
     "output_type": "execute_result"
    }
   ],
   "source": [
    "#training and test set\n",
    "from sklearn.model_selection import train_test_split\n",
    "X_train, X_test, y_train, y_test = train_test_split(X[features], y, test_size=0.25, random_state=42)\n",
    "\n",
    "#scale classes based on relative imbalance\n",
    "scale_pos_weight = len(y_train[y_train==0])/float(len(y_train[y_train==1]))\n",
    "scale_pos_weight"
   ]
  },
  {
   "cell_type": "markdown",
   "metadata": {},
   "source": [
    "Grid search for optimum best parameters"
   ]
  },
  {
   "cell_type": "code",
   "execution_count": 17,
   "metadata": {},
   "outputs": [
    {
     "data": {
      "text/plain": [
       "RandomizedSearchCV(cv=4, error_score='raise',\n",
       "          estimator=XGBClassifier(base_score=0.5, colsample_bylevel=1, colsample_bytree=1,\n",
       "       gamma=0, learning_rate=0.1, max_delta_step=0, max_depth=3,\n",
       "       min_child_weight=1, missing=None, n_estimators=100, nthread=-1,\n",
       "       objective='binary:logistic', reg_alpha=0, reg_lambda=1,\n",
       "       scale_pos_weight=0.460218408736, seed=0, silent=True, subsample=1),\n",
       "          fit_params=None, iid=True, n_iter=3, n_jobs=1,\n",
       "          param_distributions={'colsample_bytree': [0.1, 0.5, 1], 'learning_rate': [0.1], 'max_delta_step': [0, 1, 5, 10], 'min_child_weight': [0.05, 0.1, 0.2, 0.5, 1, 3], 'n_estimators': [1000], 'max_depth': [2, 4, 8, 16], 'gamma': [0, 0.2, 0.4, 0.8]},\n",
       "          pre_dispatch='2*n_jobs', random_state=None, refit=True,\n",
       "          return_train_score=True, scoring='roc_auc', verbose=0)"
      ]
     },
     "execution_count": 17,
     "metadata": {},
     "output_type": "execute_result"
    }
   ],
   "source": [
    "model = xgb.XGBClassifier(scale_pos_weight=scale_pos_weight)\n",
    "n_cv = 4\n",
    "n_iter = 20     #number of RandomizedSearchCV search iterations\n",
    "param_grid={\n",
    "    'learning_rate': [5e-3,0.1],\n",
    "    'max_depth': [2,4,8,16],\n",
    "    'min_child_weight': [0.05,0.1,0.2,0.5,1,3],\n",
    "    'max_delta_step': [0,1,5,10],\n",
    "    'colsample_bytree': [0.1,0.5,1],\n",
    "    'gamma': [0,0.2,0.4,0.8],\n",
    "    'n_estimators':[1000],\n",
    "}\n",
    "\n",
    "grid = RandomizedSearchCV(model, param_distributions=param_grid, n_iter=n_iter, cv=n_cv, scoring='roc_auc')\n",
    "grid.fit(X_train,y_train)\n",
    "\n",
    "#print(grid.best_score_)\n",
    "#print(grid.best_params_)"
   ]
  },
  {
   "cell_type": "code",
   "execution_count": 18,
   "metadata": {},
   "outputs": [
    {
     "name": "stdout",
     "output_type": "stream",
     "text": [
      "0.711789316817\n",
      "{'colsample_bytree': 0.5, 'learning_rate': 0.1, 'max_delta_step': 10, 'min_child_weight': 0.05, 'n_estimators': 1000, 'max_depth': 16, 'gamma': 0.4}\n"
     ]
    }
   ],
   "source": [
    "print(grid.best_score_)\n",
    "print(grid.best_params_)"
   ]
  },
  {
   "cell_type": "markdown",
   "metadata": {},
   "source": [
    "Final Model with best parameters from grid search"
   ]
  },
  {
   "cell_type": "code",
   "execution_count": 21,
   "metadata": {},
   "outputs": [
    {
     "ename": "ValueError",
     "evalue": "Parameter values for parameter (colsample_bytree) need to be a sequence(but not a string) or np.ndarray.",
     "output_type": "error",
     "traceback": [
      "\u001b[0;31m---------------------------------------------------------------------------\u001b[0m",
      "\u001b[0;31mValueError\u001b[0m                                Traceback (most recent call last)",
      "\u001b[0;32m<ipython-input-21-cbc50243ec5a>\u001b[0m in \u001b[0;36m<module>\u001b[0;34m()\u001b[0m\n\u001b[1;32m     11\u001b[0m \u001b[0;31m#     'gamma': [0.2],\u001b[0m\u001b[0;34m\u001b[0m\u001b[0;34m\u001b[0m\u001b[0m\n\u001b[1;32m     12\u001b[0m \u001b[0;31m# }\u001b[0m\u001b[0;34m\u001b[0m\u001b[0;34m\u001b[0m\u001b[0m\n\u001b[0;32m---> 13\u001b[0;31m \u001b[0mbest_model\u001b[0m \u001b[0;34m=\u001b[0m \u001b[0mGridSearchCV\u001b[0m\u001b[0;34m(\u001b[0m\u001b[0mmodel\u001b[0m\u001b[0;34m,\u001b[0m \u001b[0mparam_grid\u001b[0m\u001b[0;34m=\u001b[0m\u001b[0mgrid\u001b[0m\u001b[0;34m.\u001b[0m\u001b[0mbest_params_\u001b[0m\u001b[0;34m,\u001b[0m \u001b[0mcv\u001b[0m\u001b[0;34m=\u001b[0m\u001b[0mn_cv\u001b[0m\u001b[0;34m,\u001b[0m \u001b[0mscoring\u001b[0m\u001b[0;34m=\u001b[0m\u001b[0;34m'roc_auc'\u001b[0m\u001b[0;34m)\u001b[0m\u001b[0;34m\u001b[0m\u001b[0m\n\u001b[0m\u001b[1;32m     14\u001b[0m \u001b[0mbest_model\u001b[0m\u001b[0;34m.\u001b[0m\u001b[0mfit\u001b[0m\u001b[0;34m(\u001b[0m\u001b[0mX_train\u001b[0m\u001b[0;34m,\u001b[0m\u001b[0my_train\u001b[0m\u001b[0;34m)\u001b[0m\u001b[0;34m\u001b[0m\u001b[0m\n\u001b[1;32m     15\u001b[0m \u001b[0;34m\u001b[0m\u001b[0m\n",
      "\u001b[0;32m/Users/silburt/anaconda2/envs/ml/lib/python2.7/site-packages/sklearn/model_selection/_search.pyc\u001b[0m in \u001b[0;36m__init__\u001b[0;34m(self, estimator, param_grid, scoring, fit_params, n_jobs, iid, refit, cv, verbose, pre_dispatch, error_score, return_train_score)\u001b[0m\n\u001b[1;32m   1052\u001b[0m             return_train_score=return_train_score)\n\u001b[1;32m   1053\u001b[0m         \u001b[0mself\u001b[0m\u001b[0;34m.\u001b[0m\u001b[0mparam_grid\u001b[0m \u001b[0;34m=\u001b[0m \u001b[0mparam_grid\u001b[0m\u001b[0;34m\u001b[0m\u001b[0m\n\u001b[0;32m-> 1054\u001b[0;31m         \u001b[0m_check_param_grid\u001b[0m\u001b[0;34m(\u001b[0m\u001b[0mparam_grid\u001b[0m\u001b[0;34m)\u001b[0m\u001b[0;34m\u001b[0m\u001b[0m\n\u001b[0m\u001b[1;32m   1055\u001b[0m \u001b[0;34m\u001b[0m\u001b[0m\n\u001b[1;32m   1056\u001b[0m     \u001b[0;32mdef\u001b[0m \u001b[0m_get_param_iterator\u001b[0m\u001b[0;34m(\u001b[0m\u001b[0mself\u001b[0m\u001b[0;34m)\u001b[0m\u001b[0;34m:\u001b[0m\u001b[0;34m\u001b[0m\u001b[0m\n",
      "\u001b[0;32m/Users/silburt/anaconda2/envs/ml/lib/python2.7/site-packages/sklearn/model_selection/_search.pyc\u001b[0m in \u001b[0;36m_check_param_grid\u001b[0;34m(param_grid)\u001b[0m\n\u001b[1;32m    353\u001b[0m                 raise ValueError(\"Parameter values for parameter ({0}) need \"\n\u001b[1;32m    354\u001b[0m                                  \u001b[0;34m\"to be a sequence(but not a string) or\"\u001b[0m\u001b[0;34m\u001b[0m\u001b[0m\n\u001b[0;32m--> 355\u001b[0;31m                                  \" np.ndarray.\".format(name))\n\u001b[0m\u001b[1;32m    356\u001b[0m \u001b[0;34m\u001b[0m\u001b[0m\n\u001b[1;32m    357\u001b[0m             \u001b[0;32mif\u001b[0m \u001b[0mlen\u001b[0m\u001b[0;34m(\u001b[0m\u001b[0mv\u001b[0m\u001b[0;34m)\u001b[0m \u001b[0;34m==\u001b[0m \u001b[0;36m0\u001b[0m\u001b[0;34m:\u001b[0m\u001b[0;34m\u001b[0m\u001b[0m\n",
      "\u001b[0;31mValueError\u001b[0m: Parameter values for parameter (colsample_bytree) need to be a sequence(but not a string) or np.ndarray."
     ]
    }
   ],
   "source": [
    "## ******Need to plug in best model easily from above grid search\n",
    "\n",
    "\n",
    "#Do final train with best parameters, lower learning rate and more estimators\n",
    "model = xgb.XGBClassifier(scale_pos_weight=scale_pos_weight)\n",
    "n_cv = 4\n",
    "# best_params={\n",
    "#     'learning_rate': [5e-3],\n",
    "#     'n_estimators':[3000],\n",
    "#     'max_depth': [8],\n",
    "#     'max_delta_step': [5],\n",
    "#     'min_child_weight': [0.1],\n",
    "#     'colsample_bytree': [0.5],\n",
    "#     'gamma': [0.2],\n",
    "# }\n",
    "best_model = GridSearchCV(model, param_grid=grid.best_params_, cv=n_cv, scoring='roc_auc')\n",
    "best_model.fit(X_train,y_train)\n",
    "\n",
    "#best model\n",
    "xgb_model = best_model.best_estimator_\n",
    "\n",
    "print(best_model.best_score_)\n",
    "#pickle.dump(xgb_model, open(\"xgb_best_model.dat\", \"wb\"))"
   ]
  },
  {
   "cell_type": "code",
   "execution_count": 11,
   "metadata": {
    "collapsed": true
   },
   "outputs": [],
   "source": [
    "#load best model (if skipped above cell)\n",
    "xgb_model = pickle.load(open(\"xgb_best_model.dat\", \"rb\"))"
   ]
  },
  {
   "cell_type": "code",
   "execution_count": 13,
   "metadata": {},
   "outputs": [
    {
     "name": "stdout",
     "output_type": "stream",
     "text": [
      "Precision=0.889474, Recall=0.405276, N_cases=169.000000\n"
     ]
    },
    {
     "data": {
      "image/png": "[encoded data removed]",
      "text/plain": [
       "<matplotlib.figure.Figure at 0x11cf38050>"
      ]
     },
     "metadata": {},
     "output_type": "display_data"
    }
   ],
   "source": [
    "# Histogram to see class predictions\n",
    "bins = 50\n",
    "y_pred=xgb_model.predict_proba(X_test)\n",
    "True_Class=y_pred[y_test==1][:,1]\n",
    "False_Class=y_pred[y_test==0][:,1]\n",
    "thresh = 0.9\n",
    "\n",
    "fig, ax1 = plt.subplots(figsize=(10,8))\n",
    "ax1.hist(False_Class, bins, alpha=0.5, label='No', color='blue')\n",
    "ax1.set_xlabel('Model-Predicted Probability', fontsize=20)\n",
    "ax1.set_ylabel('$P_{t+1}/P_t<%.2f$'%true_threshold,  fontsize=20, color='blue')\n",
    "for tl in ax1.get_yticklabels():\n",
    "    tl.set_color('blue')\n",
    "    \n",
    "ax2 = ax1.twinx()\n",
    "ax2.hist(True_Class, bins, alpha=0.5, color='green')\n",
    "ax2.set_ylabel('$P_{t+1}/P_t>%.2f$'%true_threshold, fontsize=20, color='green')\n",
    "for tl in ax2.get_yticklabels():\n",
    "    tl.set_color('green')\n",
    "ax2.set_ylim([0,75])\n",
    "ax2.plot([thresh,thresh],[0,80],'k--', label=r'$T_w$ = %.2f'%thresh)\n",
    "plt.legend(fontsize=13)\n",
    "\n",
    "Tp = float(len(True_Class[True_Class >= thresh]))\n",
    "Fp = len(False_Class[False_Class >= thresh])\n",
    "Fn = len(True_Class[True_Class < thresh])\n",
    "print(\"Precision=%f, Recall=%f, N_cases=%f\"%(Tp/(Tp+Fp), Tp/(Tp+Fn), Tp))\n",
    "\n",
    "plt.savefig('imgs/results.png')"
   ]
  },
  {
   "cell_type": "code",
   "execution_count": 16,
   "metadata": {},
   "outputs": [
    {
     "data": {
      "image/png": "[encoded data removed]",
      "text/plain": [
       "<matplotlib.figure.Figure at 0x11ceb56d0>"
      ]
     },
     "metadata": {},
     "output_type": "display_data"
    }
   ],
   "source": [
    "# plot feature importances by fscore\n",
    "feat_imp = pd.Series(xgb_model.booster().get_fscore()).sort_values(ascending=False)[0:20]\n",
    "plt.figure(figsize=(10,10))\n",
    "plt.bar(range(len(feat_imp)),feat_imp, tick_label=feat_imp.keys())\n",
    "plt.xticks(fontsize=12,rotation=90);\n",
    "plt.yticks(fontsize=12)\n",
    "plt.gcf().subplots_adjust(bottom=0.35)\n",
    "plt.ylabel('Split Frequency', fontsize = 15)\n",
    "plt.savefig('imgs/feature_importances_20.png')"
   ]
  },
  {
   "cell_type": "code",
   "execution_count": 46,
   "metadata": {},
   "outputs": [
    {
     "data": {
      "image/png": "[encoded data removed]",
      "text/plain": [
       "<matplotlib.figure.Figure at 0x111091d10>"
      ]
     },
     "metadata": {},
     "output_type": "display_data"
    }
   ],
   "source": [
    "#PR curve\n",
    "from sklearn.metrics import precision_recall_curve\n",
    "y_pred = xgb_model.predict_proba(X_test)\n",
    "precision, recall, thresholds = precision_recall_curve(y_test, y_pred[:,1])\n",
    "\n",
    "plt.figure(figsize=(8,6))\n",
    "plt.plot(recall, precision, label='roc_auc = 0.7134')\n",
    "plt.xlim([0.0, 1.0])\n",
    "plt.ylim([0.0, 1.0])\n",
    "plt.xticks(fontsize=12)\n",
    "plt.yticks(fontsize=12)\n",
    "plt.xlabel('Recall',fontsize=12)\n",
    "plt.ylabel('Precision',fontsize=12)\n",
    "plt.legend()\n",
    "plt.savefig('imgs/precision_recall.png')"
   ]
  },
  {
   "cell_type": "markdown",
   "metadata": {},
   "source": [
    "### Helpful links in making this notebook:  \n",
    "https://simply-python.com/2015/02/13/getting-historical-financial-statistics-of-stock-using-python/  \n",
    "http://stackoverflow.com/questions/40139537/scrape-yahoo-finance-financial-ratios  \n",
    "https://automatetheboringstuff.com/chapter11/  \n",
    "http://docs.python-guide.org/en/latest/scenarios/scrape/  \n",
    "https://www.boxcontrol.net/write-simple-currency-converter-in-python.html  "
   ]
  },
  {
   "cell_type": "code",
   "execution_count": null,
   "metadata": {
    "collapsed": true
   },
   "outputs": [],
   "source": []
  }
 ],
 "metadata": {
  "kernelspec": {
   "display_name": "Python 2",
   "language": "python",
   "name": "python2"
  },
  "language_info": {
   "codemirror_mode": {
    "name": "ipython",
    "version": 2
   },
   "file_extension": ".py",
   "mimetype": "text/x-python",
   "name": "python",
   "nbconvert_exporter": "python",
   "pygments_lexer": "ipython2",
   "version": "2.7.13"
  }
 },
 "nbformat": 4,
 "nbformat_minor": 1
}
