{
 "cells": [
  {
   "cell_type": "markdown",
   "metadata": {},
   "source": [
    "## Do Players Tend to Perform Better or Worse After a Big Salary Increase?\n",
    "All sports teams are looking for that \"Unicorn\" - a player who is greatly undervalued but possesses great talent. Once a team thinks they've found their unicorn, they pay him the big bucks and lock him up. How do these supposed unicorns perform after getting their payday?\n",
    "\n",
    "Full info here - https://github.com/benhamner/baseball/blob/master/src/import.sql"
   ]
  },
  {
   "cell_type": "code",
   "execution_count": 1,
   "metadata": {
    "collapsed": true
   },
   "outputs": [],
   "source": [
    "import pandas as pd\n",
    "import numpy as np"
   ]
  },
  {
   "cell_type": "code",
   "execution_count": 2,
   "metadata": {
    "collapsed": true
   },
   "outputs": [],
   "source": [
    "batting = pd.read_csv(\"csv/batting.csv\")\n",
    "salary = pd.read_csv(\"csv/salary.csv\")\n",
    "player = pd.read_csv(\"csv/player.csv\")"
   ]
  },
  {
   "cell_type": "markdown",
   "metadata": {},
   "source": [
    "Pick range of years."
   ]
  },
  {
   "cell_type": "code",
   "execution_count": 3,
   "metadata": {
    "collapsed": true
   },
   "outputs": [],
   "source": [
    "#work on a smaller dataset for now\n",
    "start_year = 1990\n",
    "end_year = 2015\n",
    "ext='-01-01'\n",
    "player = player[(player[\"debut\"] > str(start_year)+ext) & (player[\"debut\"] < str(end_year)+ext)]\n",
    "batting = batting[batting[\"year\"] > start_year]\n",
    "salary = salary[salary[\"year\"] > start_year]"
   ]
  },
  {
   "cell_type": "markdown",
   "metadata": {},
   "source": [
    "Merge stints in batting. Too annoying to deal with separately."
   ]
  },
  {
   "cell_type": "code",
   "execution_count": 4,
   "metadata": {
    "collapsed": true
   },
   "outputs": [],
   "source": [
    "batting = batting.groupby([\"player_id\",\"year\"]).sum()\n",
    "batting = batting.reset_index()"
   ]
  },
  {
   "cell_type": "markdown",
   "metadata": {},
   "source": [
    "Make Runs Created (RC) feature, which we will use as a metric for how a given player is performing. The benefit of this statistic is that it encapsulates all the hitting stats into one number."
   ]
  },
  {
   "cell_type": "code",
   "execution_count": 5,
   "metadata": {
    "collapsed": true
   },
   "outputs": [],
   "source": [
    "batting[\"single\"] = batting[\"h\"] - (batting[\"double\"] + batting[\"triple\"] + batting[\"hr\"])\n",
    "batting[\"tb\"] = batting[\"single\"] + 2*batting[\"double\"] + 3*batting[\"triple\"] + 4*batting[\"hr\"]\n",
    "A = batting[\"h\"] + batting[\"bb\"] - batting[\"cs\"] + batting[\"hbp\"] - batting[\"g_idp\"] #total bases\n",
    "B = batting[\"tb\"] + 0.26*(batting[\"bb\"] - batting[\"ibb\"] + batting[\"hbp\"])           #base on balls\n",
    "C = 0.52*(batting[\"sh\"] + batting[\"sf\"] + batting[\"sb\"])                             #sacrifices\n",
    "D = batting[\"ab\"] + batting[\"bb\"] + batting[\"hbp\"] + batting[\"sh\"] + batting[\"sf\"]   #total at bats\n",
    "batting[\"rc\"] = (A*B + C)/D\n",
    "\n",
    "#For players that don't have the required stats for complex RC, use simple RC\n",
    "batting.loc[batting[\"rc\"].isnull()==True,\"rc\"]=(batting[\"h\"]+batting[\"bb\"])*batting[\"tb\"]/(batting[\"ab\"]+batting[\"bb\"])\n",
    "\n",
    "#set remaining isnan and isinf values to 0\n",
    "batting.loc[batting[\"rc\"].isnull()==True,\"rc\"] = 0\n",
    "batting.loc[np.isinf(batting[\"rc\"]),\"rc\"] = 0"
   ]
  },
  {
   "cell_type": "markdown",
   "metadata": {},
   "source": [
    "### Analysis\n",
    "Find players who have had big salary increases, i.e. a \"payday\", and their corresponding runs created (RC) values. A quick summary of the variables in the function get_rc_of_payday:\n",
    "* plyr_id = Player ID\n",
    "* player, salary, batting = dataframes containing this info\n",
    "* SITR = \"Salary Increase Threshold Ratio\". This is the minimum fractional salary increase from the previous year to be considered a \"payday\".\n",
    "* SMT = \"Salary Minimum Threshold\". This is the minimum dollar value to be considered a \"payday\". I'm not really concerned with players who get a salary increase from e.g. 200k to 600k. Note that if you use older years, you may have to adjust this value over time for inflation.\n",
    "* GPMT = \"Games Played Minimum Threshold\". This is the minimum number of games a player must have played in order to use the payday/RC values from that year. \n",
    "* rc_i_avg = Number of years to average the post-payday RC value (which I call rc_i). Perhaps a player happens to have a bad/good year just after the salary increase but in general is a good/bad player post-payday. If the rc_i_avg years aren't available, pandas grabs the available ones. I don't average RC before the payday (RC_i-1), since it's usually a single good single year that leads to big contract offers in hopes that you've \"picked the winning stock\".  "
   ]
  },
  {
   "cell_type": "code",
   "execution_count": 6,
   "metadata": {
    "collapsed": true
   },
   "outputs": [],
   "source": [
    "def get_rc_of_payday(plyr_id,player,salary,batting,SITR,SMT,GPMT,rc_post_avg):\n",
    "    plyr_slry = salary[salary[\"player_id\"] == plyr_id]\n",
    "    plyr_slry[\"salary_ratio\"] = plyr_slry[\"salary\"].div(plyr_slry[\"salary\"].shift(1))\n",
    "    check_payday = (plyr_slry[\"salary_ratio\"] > SITR) & (plyr_slry[\"salary\"] > SMT)\n",
    "    payday_year = plyr_slry[\"year\"].loc[check_payday].values\n",
    "    plyr_bat = batting.loc[batting[\"player_id\"] == plyr_id]\n",
    "    data = []\n",
    "    for i,y in enumerate(payday_year):\n",
    "        #check that enough games were played for accurate rc in current and previous year?\n",
    "        if (np.sum(plyr_bat[\"g\"].loc[plyr_bat[\"year\"] == y]) > GPMT) & (np.sum(plyr_bat[\"g\"].loc[plyr_bat[\"year\"] == y-1]) > GPMT):\n",
    "            yrs = plyr_bat[\"year\"]\n",
    "            rc_post = plyr_bat.loc[(yrs>=y)&(yrs<y+rc_post_avg),\"rc\"].mean()\n",
    "            rc_prev = plyr_bat.loc[yrs==y-1,\"rc\"].values[0]\n",
    "            rcratio = rc_post/rc_prev\n",
    "            if np.isnan(rcratio) == 0:\n",
    "                data.append(plyr_id)\n",
    "                data.append(player.loc[player[\"player_id\"] == plyr_id,[\"name_first\",\"name_last\"]].values[0].sum())\n",
    "                data.append(y)\n",
    "                data.append(rc_post)\n",
    "                data.append(rcratio)\n",
    "                data.append(plyr_slry.loc[plyr_slry[\"year\"]==y,\"salary_ratio\"].values[0])\n",
    "    return data"
   ]
  },
  {
   "cell_type": "markdown",
   "metadata": {},
   "source": [
    "Let's conduct this analysis and store the results in a new dataframe \"data\"."
   ]
  },
  {
   "cell_type": "code",
   "execution_count": 7,
   "metadata": {},
   "outputs": [
    {
     "name": "stderr",
     "output_type": "stream",
     "text": [
      "/Users/silburt/anaconda2/envs/ml/lib/python2.7/site-packages/ipykernel/__main__.py:3: SettingWithCopyWarning: \n",
      "A value is trying to be set on a copy of a slice from a DataFrame.\n",
      "Try using .loc[row_indexer,col_indexer] = value instead\n",
      "\n",
      "See the caveats in the documentation: http://pandas.pydata.org/pandas-docs/stable/indexing.html#indexing-view-versus-copy\n",
      "  app.launch_new_instance()\n"
     ]
    }
   ],
   "source": [
    "slry_inc_thresh_ratio = 2      #min increase ratio player received\n",
    "slry_min_thresh = 2e6          #min final salary after the payday\n",
    "gp_thresh = 100                #min number of games played\n",
    "rc_post_avg = 4                   #when calc'ing rc_i, avg. over how many years? \n",
    "\n",
    "columns = [\"player_id\",\"player_name\",\"year\",\"rcpost\",\"R\",\"payday\"]\n",
    "data = pd.DataFrame(columns=columns)\n",
    "\n",
    "for i,plyr_id in enumerate(player[\"player_id\"]):\n",
    "    d = get_rc_of_payday(plyr_id,player,salary,batting,slry_inc_thresh_ratio,slry_min_thresh,gp_thresh,rc_post_avg)\n",
    "    while len(d) > 0: #gotta be a better way to do this\n",
    "        data = data.append({col:d[i] for i,col in enumerate(columns)}, ignore_index=True)\n",
    "        d = d[len(columns):]"
   ]
  },
  {
   "cell_type": "code",
   "execution_count": 8,
   "metadata": {},
   "outputs": [
    {
     "name": "stdout",
     "output_type": "stream",
     "text": [
      "Best rc ratio is 2.02341739896 from ['MikeMoustakas' 'moustmi01']\n",
      "Worst rc ratio is 0.184124713618 from ['CaseyMcGehee' 'mcgehca01']\n",
      "Biggest Salary increase is 15.6779661017x from ['MiguelCabrera' 'cabremi01']\n",
      "('Fraction of players with rc_post/rc_prev < 0.85:', 0.5375)\n",
      "('Fraction of players with rc_post/rc_prev > 1.15:', 0.1225)\n",
      "('Fraction of players with rc_post >1 std of the mean:', 0.6525)\n"
     ]
    },
    {
     "data": {
      "image/png": "[encoded data removed]",
      "text/plain": [
       "<matplotlib.figure.Figure at 0x10d513750>"
      ]
     },
     "metadata": {},
     "output_type": "display_data"
    }
   ],
   "source": [
    "#plot\n",
    "import matplotlib.pyplot as plt\n",
    "%matplotlib inline\n",
    "font=15\n",
    "plt.figure(figsize=(10,5))\n",
    "norm = (data[\"rcpost\"] - batting[\"rc\"].loc[batting[\"rc\"] != 0.].mean())/batting[\"rc\"].loc[batting[\"rc\"] != 0.].std()\n",
    "plt.scatter(data[\"payday\"],data[\"R\"], c=norm, cmap='rainbow',lw=0)\n",
    "cbar = plt.colorbar()\n",
    "cbar.set_label(\"$(rc_{post} - rc_{post,mean}) / \\sigma_{rc_{post}}$\",size=font)\n",
    "plt.xlabel('fractional salary increase',fontsize=font)\n",
    "plt.ylabel('R = rc$_{post}$ / rc$_{prev}$',fontsize=font)\n",
    "plt.title('Runs Created Ratio vs. salary increase',fontsize=font)\n",
    "\n",
    "#some stats\n",
    "rcmax = data[\"R\"].max()\n",
    "rcmin = data[\"R\"].min()\n",
    "paymax = data[\"payday\"].max()\n",
    "print(\"Best rc ratio is \"+str(rcmax)+\" from \"+str(data.loc[data[\"R\"] == rcmax,[\"player_name\",\"player_id\"]].values[0]))\n",
    "print(\"Worst rc ratio is \"+str(rcmin)+\" from \"+str(data.loc[data[\"R\"] == rcmin,[\"player_name\",\"player_id\"]].values[0]))\n",
    "print(\"Biggest Salary increase is \"+str(paymax)+\"x from \"+str(data.loc[data[\"payday\"] == paymax,[\"player_name\",\"player_id\"]].values[0]))\n",
    "print(\"Fraction of players with rc_post/rc_prev < 0.85:\",data[data[\"R\"]<0.85].shape[0]/float(data[\"R\"].shape[0]))\n",
    "print(\"Fraction of players with rc_post/rc_prev > 1.15:\",data[data[\"R\"]>1.15].shape[0]/float(data[\"R\"].shape[0]))\n",
    "print(\"Fraction of players with rc_post >1 std of the mean:\",norm[norm>1].shape[0]/float(norm.shape[0]))"
   ]
  },
  {
   "cell_type": "markdown",
   "metadata": {},
   "source": [
    "### Analysis Discussion\n",
    "The plot above has a lot of information and warrants some explanation. The y-axis is plotting R, the ratio of the runs created after the salary increase (averaged over rc_post_avg years), rc_post, to the runs created before the salary increase, rc_prev. The x-axis is plotting the fractional salary increase, with a minimum requirement of 2x (and a minimum payday of 2 million dollars). In addition, the colours indicate the *scaled* rc_post value, i.e. rc_post minus the league mean divided by the standard deviation.\n",
    "\n",
    "We can see that ~50% of the data points lie below R = 0.85, which I (arbitrarily) consider to be the threshold indicating a clear decrease in batting performance. However this in itself does not necessarily indicate that a player was a bad investment. We also must look at the scaled RC value after the salary increase, since perhaps a player still contributes greatly to his team even if he never performs quite as well as he did just before the payday. We see that ~65% of the players' have a scaled rc_post value greater than 1 standard deviation of the mean. This indicates that these players are still league leaders even if they didn't perform quite as well as their payday year, and are probably \"worth\" the salary (it's a separate discussion whether or not MLB players should be paid so much). "
   ]
  },
  {
   "cell_type": "code",
   "execution_count": 17,
   "metadata": {},
   "outputs": [
    {
     "data": {
      "text/html": [
       "<div>\n",
       "<table border=\"1\" class=\"dataframe\">\n",
       "  <thead>\n",
       "    <tr style=\"text-align: right;\">\n",
       "      <th></th>\n",
       "      <th>player_id</th>\n",
       "      <th>player_name</th>\n",
       "      <th>year</th>\n",
       "      <th>rcpost</th>\n",
       "      <th>R</th>\n",
       "      <th>payday</th>\n",
       "    </tr>\n",
       "  </thead>\n",
       "  <tbody>\n",
       "    <tr>\n",
       "      <th>265</th>\n",
       "      <td>moustmi01</td>\n",
       "      <td>MikeMoustakas</td>\n",
       "      <td>2015.0</td>\n",
       "      <td>86.931596</td>\n",
       "      <td>2.023417</td>\n",
       "      <td>4.808743</td>\n",
       "    </tr>\n",
       "    <tr>\n",
       "      <th>305</th>\n",
       "      <td>ramirar01</td>\n",
       "      <td>AramisRamirez</td>\n",
       "      <td>2003.0</td>\n",
       "      <td>98.905987</td>\n",
       "      <td>1.882600</td>\n",
       "      <td>6.000000</td>\n",
       "    </tr>\n",
       "    <tr>\n",
       "      <th>207</th>\n",
       "      <td>karroer01</td>\n",
       "      <td>EricKarros</td>\n",
       "      <td>1995.0</td>\n",
       "      <td>92.079090</td>\n",
       "      <td>1.810261</td>\n",
       "      <td>3.615385</td>\n",
       "    </tr>\n",
       "    <tr>\n",
       "      <th>135</th>\n",
       "      <td>goldspa01</td>\n",
       "      <td>PaulGoldschmidt</td>\n",
       "      <td>2015.0</td>\n",
       "      <td>140.383314</td>\n",
       "      <td>1.624243</td>\n",
       "      <td>2.818182</td>\n",
       "    </tr>\n",
       "    <tr>\n",
       "      <th>40</th>\n",
       "      <td>burrepa01</td>\n",
       "      <td>PatBurrell</td>\n",
       "      <td>2004.0</td>\n",
       "      <td>97.139329</td>\n",
       "      <td>1.513278</td>\n",
       "      <td>3.400000</td>\n",
       "    </tr>\n",
       "    <tr>\n",
       "      <th>398</th>\n",
       "      <td>zimmery01</td>\n",
       "      <td>RyanZimmerman</td>\n",
       "      <td>2009.0</td>\n",
       "      <td>91.013990</td>\n",
       "      <td>1.511550</td>\n",
       "      <td>7.150538</td>\n",
       "    </tr>\n",
       "    <tr>\n",
       "      <th>21</th>\n",
       "      <td>beltrad01</td>\n",
       "      <td>AdrianBeltre</td>\n",
       "      <td>2002.0</td>\n",
       "      <td>86.866944</td>\n",
       "      <td>1.506526</td>\n",
       "      <td>2.240000</td>\n",
       "    </tr>\n",
       "  </tbody>\n",
       "</table>\n",
       "</div>"
      ],
      "text/plain": [
       "     player_id      player_name    year      rcpost         R    payday\n",
       "265  moustmi01    MikeMoustakas  2015.0   86.931596  2.023417  4.808743\n",
       "305  ramirar01    AramisRamirez  2003.0   98.905987  1.882600  6.000000\n",
       "207  karroer01       EricKarros  1995.0   92.079090  1.810261  3.615385\n",
       "135  goldspa01  PaulGoldschmidt  2015.0  140.383314  1.624243  2.818182\n",
       "40   burrepa01       PatBurrell  2004.0   97.139329  1.513278  3.400000\n",
       "398  zimmery01    RyanZimmerman  2009.0   91.013990  1.511550  7.150538\n",
       "21   beltrad01     AdrianBeltre  2002.0   86.866944  1.506526  2.240000"
      ]
     },
     "execution_count": 17,
     "metadata": {},
     "output_type": "execute_result"
    }
   ],
   "source": [
    "#Top R values\n",
    "data[data[\"R\"]>1.5].sort_values(by=\"R\",ascending=False)"
   ]
  },
  {
   "cell_type": "markdown",
   "metadata": {},
   "source": [
    "### Quick Investigation - Mike Moustakas\n",
    "Let's briefly investigate the most correctly chosen \"Unicorn\", Mike Moustakas. He has the highest R value from our sample (indicating that he most significantly improved his RC output after the payday), and is also ~1.75 standard deviations from the mean, indicating a clear above average player. "
   ]
  },
  {
   "cell_type": "code",
   "execution_count": 10,
   "metadata": {},
   "outputs": [
    {
     "data": {
      "text/html": [
       "<div>\n",
       "<table border=\"1\" class=\"dataframe\">\n",
       "  <thead>\n",
       "    <tr style=\"text-align: right;\">\n",
       "      <th></th>\n",
       "      <th>player_id</th>\n",
       "      <th>year</th>\n",
       "      <th>stint</th>\n",
       "      <th>g</th>\n",
       "      <th>ab</th>\n",
       "      <th>r</th>\n",
       "      <th>h</th>\n",
       "      <th>double</th>\n",
       "      <th>triple</th>\n",
       "      <th>hr</th>\n",
       "      <th>...</th>\n",
       "      <th>bb</th>\n",
       "      <th>so</th>\n",
       "      <th>ibb</th>\n",
       "      <th>hbp</th>\n",
       "      <th>sh</th>\n",
       "      <th>sf</th>\n",
       "      <th>g_idp</th>\n",
       "      <th>single</th>\n",
       "      <th>tb</th>\n",
       "      <th>rc</th>\n",
       "    </tr>\n",
       "  </thead>\n",
       "  <tbody>\n",
       "    <tr>\n",
       "      <th>18879</th>\n",
       "      <td>moustmi01</td>\n",
       "      <td>2011</td>\n",
       "      <td>1</td>\n",
       "      <td>89</td>\n",
       "      <td>338.0</td>\n",
       "      <td>26.0</td>\n",
       "      <td>89.0</td>\n",
       "      <td>18.0</td>\n",
       "      <td>1.0</td>\n",
       "      <td>5.0</td>\n",
       "      <td>...</td>\n",
       "      <td>22.0</td>\n",
       "      <td>51.0</td>\n",
       "      <td>0.0</td>\n",
       "      <td>1.0</td>\n",
       "      <td>2.0</td>\n",
       "      <td>2.0</td>\n",
       "      <td>5.0</td>\n",
       "      <td>65.0</td>\n",
       "      <td>124.0</td>\n",
       "      <td>38.112274</td>\n",
       "    </tr>\n",
       "    <tr>\n",
       "      <th>18880</th>\n",
       "      <td>moustmi01</td>\n",
       "      <td>2012</td>\n",
       "      <td>1</td>\n",
       "      <td>149</td>\n",
       "      <td>563.0</td>\n",
       "      <td>69.0</td>\n",
       "      <td>136.0</td>\n",
       "      <td>34.0</td>\n",
       "      <td>1.0</td>\n",
       "      <td>20.0</td>\n",
       "      <td>...</td>\n",
       "      <td>39.0</td>\n",
       "      <td>124.0</td>\n",
       "      <td>4.0</td>\n",
       "      <td>7.0</td>\n",
       "      <td>0.0</td>\n",
       "      <td>5.0</td>\n",
       "      <td>4.0</td>\n",
       "      <td>81.0</td>\n",
       "      <td>232.0</td>\n",
       "      <td>69.640261</td>\n",
       "    </tr>\n",
       "    <tr>\n",
       "      <th>18881</th>\n",
       "      <td>moustmi01</td>\n",
       "      <td>2013</td>\n",
       "      <td>1</td>\n",
       "      <td>136</td>\n",
       "      <td>472.0</td>\n",
       "      <td>42.0</td>\n",
       "      <td>110.0</td>\n",
       "      <td>26.0</td>\n",
       "      <td>0.0</td>\n",
       "      <td>12.0</td>\n",
       "      <td>...</td>\n",
       "      <td>32.0</td>\n",
       "      <td>83.0</td>\n",
       "      <td>1.0</td>\n",
       "      <td>5.0</td>\n",
       "      <td>1.0</td>\n",
       "      <td>4.0</td>\n",
       "      <td>13.0</td>\n",
       "      <td>72.0</td>\n",
       "      <td>172.0</td>\n",
       "      <td>45.876342</td>\n",
       "    </tr>\n",
       "    <tr>\n",
       "      <th>18882</th>\n",
       "      <td>moustmi01</td>\n",
       "      <td>2014</td>\n",
       "      <td>1</td>\n",
       "      <td>140</td>\n",
       "      <td>457.0</td>\n",
       "      <td>45.0</td>\n",
       "      <td>97.0</td>\n",
       "      <td>21.0</td>\n",
       "      <td>1.0</td>\n",
       "      <td>15.0</td>\n",
       "      <td>...</td>\n",
       "      <td>35.0</td>\n",
       "      <td>74.0</td>\n",
       "      <td>1.0</td>\n",
       "      <td>3.0</td>\n",
       "      <td>1.0</td>\n",
       "      <td>4.0</td>\n",
       "      <td>12.0</td>\n",
       "      <td>60.0</td>\n",
       "      <td>165.0</td>\n",
       "      <td>42.962760</td>\n",
       "    </tr>\n",
       "    <tr>\n",
       "      <th>18883</th>\n",
       "      <td>moustmi01</td>\n",
       "      <td>2015</td>\n",
       "      <td>1</td>\n",
       "      <td>147</td>\n",
       "      <td>549.0</td>\n",
       "      <td>73.0</td>\n",
       "      <td>156.0</td>\n",
       "      <td>34.0</td>\n",
       "      <td>1.0</td>\n",
       "      <td>22.0</td>\n",
       "      <td>...</td>\n",
       "      <td>43.0</td>\n",
       "      <td>76.0</td>\n",
       "      <td>1.0</td>\n",
       "      <td>13.0</td>\n",
       "      <td>4.0</td>\n",
       "      <td>5.0</td>\n",
       "      <td>14.0</td>\n",
       "      <td>99.0</td>\n",
       "      <td>258.0</td>\n",
       "      <td>86.931596</td>\n",
       "    </tr>\n",
       "  </tbody>\n",
       "</table>\n",
       "<p>5 rows × 23 columns</p>\n",
       "</div>"
      ],
      "text/plain": [
       "       player_id  year  stint    g     ab     r      h  double  triple    hr  \\\n",
       "18879  moustmi01  2011      1   89  338.0  26.0   89.0    18.0     1.0   5.0   \n",
       "18880  moustmi01  2012      1  149  563.0  69.0  136.0    34.0     1.0  20.0   \n",
       "18881  moustmi01  2013      1  136  472.0  42.0  110.0    26.0     0.0  12.0   \n",
       "18882  moustmi01  2014      1  140  457.0  45.0   97.0    21.0     1.0  15.0   \n",
       "18883  moustmi01  2015      1  147  549.0  73.0  156.0    34.0     1.0  22.0   \n",
       "\n",
       "         ...        bb     so  ibb   hbp   sh   sf  g_idp  single     tb  \\\n",
       "18879    ...      22.0   51.0  0.0   1.0  2.0  2.0    5.0    65.0  124.0   \n",
       "18880    ...      39.0  124.0  4.0   7.0  0.0  5.0    4.0    81.0  232.0   \n",
       "18881    ...      32.0   83.0  1.0   5.0  1.0  4.0   13.0    72.0  172.0   \n",
       "18882    ...      35.0   74.0  1.0   3.0  1.0  4.0   12.0    60.0  165.0   \n",
       "18883    ...      43.0   76.0  1.0  13.0  4.0  5.0   14.0    99.0  258.0   \n",
       "\n",
       "              rc  \n",
       "18879  38.112274  \n",
       "18880  69.640261  \n",
       "18881  45.876342  \n",
       "18882  42.962760  \n",
       "18883  86.931596  \n",
       "\n",
       "[5 rows x 23 columns]"
      ]
     },
     "execution_count": 10,
     "metadata": {},
     "output_type": "execute_result"
    }
   ],
   "source": [
    "id='moustmi01'\n",
    "batting[batting[\"player_id\"] == id]\n",
    "plyr_bat = batting.loc[batting[\"player_id\"] == id]\n",
    "plyr_bat"
   ]
  },
  {
   "cell_type": "code",
   "execution_count": 11,
   "metadata": {},
   "outputs": [
    {
     "data": {
      "text/html": [
       "<div>\n",
       "<table border=\"1\" class=\"dataframe\">\n",
       "  <thead>\n",
       "    <tr style=\"text-align: right;\">\n",
       "      <th></th>\n",
       "      <th>year</th>\n",
       "      <th>team_id</th>\n",
       "      <th>league_id</th>\n",
       "      <th>player_id</th>\n",
       "      <th>salary</th>\n",
       "    </tr>\n",
       "  </thead>\n",
       "  <tbody>\n",
       "    <tr>\n",
       "      <th>22623</th>\n",
       "      <td>2012</td>\n",
       "      <td>KCA</td>\n",
       "      <td>AL</td>\n",
       "      <td>moustmi01</td>\n",
       "      <td>487250</td>\n",
       "    </tr>\n",
       "    <tr>\n",
       "      <th>23453</th>\n",
       "      <td>2013</td>\n",
       "      <td>KCA</td>\n",
       "      <td>AL</td>\n",
       "      <td>moustmi01</td>\n",
       "      <td>524500</td>\n",
       "    </tr>\n",
       "    <tr>\n",
       "      <th>24263</th>\n",
       "      <td>2014</td>\n",
       "      <td>KCA</td>\n",
       "      <td>AL</td>\n",
       "      <td>moustmi01</td>\n",
       "      <td>549000</td>\n",
       "    </tr>\n",
       "    <tr>\n",
       "      <th>25080</th>\n",
       "      <td>2015</td>\n",
       "      <td>KCA</td>\n",
       "      <td>AL</td>\n",
       "      <td>moustmi01</td>\n",
       "      <td>2640000</td>\n",
       "    </tr>\n",
       "  </tbody>\n",
       "</table>\n",
       "</div>"
      ],
      "text/plain": [
       "       year team_id league_id  player_id   salary\n",
       "22623  2012     KCA        AL  moustmi01   487250\n",
       "23453  2013     KCA        AL  moustmi01   524500\n",
       "24263  2014     KCA        AL  moustmi01   549000\n",
       "25080  2015     KCA        AL  moustmi01  2640000"
      ]
     },
     "execution_count": 11,
     "metadata": {},
     "output_type": "execute_result"
    }
   ],
   "source": [
    "salary[salary[\"player_id\"] == id]"
   ]
  },
  {
   "cell_type": "markdown",
   "metadata": {},
   "source": [
    "As can be clearly seen, Kansas City offered him a 2.64 Million dollar contract in 2015 (presumably at the end of 2014, before the 2015 season actually started), and his RC statistic in 2015 doubled. Nice work Kansas City! Hopefully his RC output continues, and this is not just an isolated good year."
   ]
  },
  {
   "cell_type": "markdown",
   "metadata": {},
   "source": [
    "## Final Discussion\n",
    "Based off of the analysis above, it seems clear that \"payday\" players tend to perform worse after their salary increase. What could be the cause of this? Do they crack under the pressure? \n",
    "\n",
    "The most likely explanation is the principle of *regression to the mean*. There is always random fluctuation in the performance of a player, and out of the entire sample of MLB players there will always be some that have an extraordinarily good year. If your exceptionally good year happens to happen when your contract is ending, you get paid. \n",
    "\n",
    "The standard deviation of this fluctuation is player dependent, with the low R/purple coloured players in the figure above having very high standard deviation. These players are likely bad players that happened to have a fantastic year as their contract was ending. \n",
    "\n",
    "However, we also saw that ~65% of the players' have a scaled rc_post value greater than 1 standard deviation from the mean, indicating that these are still league leaders even if they don't perform quite as well as they did in their payday year. Thus most of the players that get big salary increases tend to deserve it. "
   ]
  },
  {
   "cell_type": "markdown",
   "metadata": {},
   "source": [
    "# Extra crap"
   ]
  },
  {
   "cell_type": "markdown",
   "metadata": {},
   "source": [
    "Looks as though the magnitude of the salary increase is not correlated with performance increase, and in general it seems to be random whether or not a player will perform better/worse after a salary increase"
   ]
  },
  {
   "cell_type": "code",
   "execution_count": 12,
   "metadata": {},
   "outputs": [
    {
     "name": "stderr",
     "output_type": "stream",
     "text": [
      "/Users/silburt/anaconda2/envs/ml/lib/python2.7/site-packages/ipykernel/__main__.py:3: SettingWithCopyWarning: \n",
      "A value is trying to be set on a copy of a slice from a DataFrame.\n",
      "Try using .loc[row_indexer,col_indexer] = value instead\n",
      "\n",
      "See the caveats in the documentation: http://pandas.pydata.org/pandas-docs/stable/indexing.html#indexing-view-versus-copy\n",
      "  app.launch_new_instance()\n"
     ]
    },
    {
     "data": {
      "text/plain": [
       "['cabremi01',\n",
       " 'MiguelCabrera',\n",
       " 2007,\n",
       " 121.17876780185759,\n",
       " 0.88937830621691705,\n",
       " 15.677966101694915,\n",
       " 'cabremi01',\n",
       " 'MiguelCabrera',\n",
       " 2008,\n",
       " 119.19282769880905,\n",
       " 0.91726594068636735,\n",
       " 1.527027027027027]"
      ]
     },
     "execution_count": 12,
     "metadata": {},
     "output_type": "execute_result"
    }
   ],
   "source": [
    "columns = [\"player_id\",\"player_name\",\"year\",\"rcpost\",\"R\",\"payday\"]\n",
    "#plyr_id = 'craigal01'\n",
    "plyr_id = 'cabremi01'\n",
    "v = get_rc_of_payday(plyr_id,player,salary,batting,1.5,2e6,100,2)\n",
    "v"
   ]
  },
  {
   "cell_type": "code",
   "execution_count": null,
   "metadata": {
    "collapsed": true
   },
   "outputs": [],
   "source": []
  }
 ],
 "metadata": {
  "kernelspec": {
   "display_name": "Python 3",
   "language": "python",
   "name": "python3"
  },
  "language_info": {
   "codemirror_mode": {
    "name": "ipython",
    "version": 3
   },
   "file_extension": ".py",
   "mimetype": "text/x-python",
   "name": "python",
   "nbconvert_exporter": "python",
   "pygments_lexer": "ipython3",
   "version": "3.6.2"
  }
 },
 "nbformat": 4,
 "nbformat_minor": 1
}
